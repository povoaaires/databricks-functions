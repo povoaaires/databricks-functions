{
 "cells": [
  {
   "attachments": {},
   "cell_type": "markdown",
   "metadata": {},
   "source": [
    "Função que retorna o token de acesso na aplicação, passando como parâmetro o client_id e o secret para obte-lo, bem como a URL base e a URL do recurso "
   ]
  },
  {
   "cell_type": "code",
   "execution_count": null,
   "metadata": {},
   "outputs": [],
   "source": [
    "def getToken(baseUrlDynamics,UrlResourceDynamics): \n",
    "    try:\n",
    "        base_url = baseUrlDynamics\n",
    "        result = requests.post(\n",
    "            base_url,\n",
    "            headers = {'Content-Type': 'application/x-www-form-urlencoded'},\n",
    "            data={\n",
    "              \"client_id\":  dbutils.secrets.get(scope = \"key-vault\", key = \"clientid\"),\n",
    "              \"client_secret\": dbutils.secrets.get(scope = \"key-vault\", key = \"clientsecret\"),\n",
    "              \"grant_type\": \"client_credentials\",\n",
    "              \"resource\": UrlResourceDynamics\n",
    "          }\n",
    "        )\n",
    "        if result.status_code == 200:        \n",
    "            return result.json()\n",
    "        else:\n",
    "            return result.content\n",
    "    except Exception as ex:\n",
    "        return { \"msg_erro\" : str(ex) }"
   ]
  },
  {
   "attachments": {},
   "cell_type": "markdown",
   "metadata": {},
   "source": [
    "Retorna o JSON com os dados da entidade selecionada. O primeiro parâmetro é o nome da entidade que será buscada na aplicação e o segundo é a query da consulta a ser feita na aplicação, este que deve ser passado como dicionário"
   ]
  },
  {
   "cell_type": "code",
   "execution_count": null,
   "metadata": {},
   "outputs": [],
   "source": [
    "def getData(entidade,params,baseUrlDynamics): \n",
    "    try:\n",
    "        result = getToken()\n",
    "        try:\n",
    "            access_token = result[\"access_token\"]\n",
    "        except:\n",
    "            resultado = result.decode('utf-8')\n",
    "            resultado_final = json.loads(resultado)\n",
    "            return resultado_final\n",
    "        \n",
    "        base_url = baseUrlDynamics + entidade\n",
    "        result = requests.get(\n",
    "            base_url,\n",
    "            params,\n",
    "            headers={\n",
    "                \"Content-type\": \"application/json\",\n",
    "                \"Authorization\": f\"Bearer {access_token}\"\n",
    "            }\n",
    "        )\n",
    "        status = result.status_code\n",
    "        return result.json()\n",
    "    except Exception as ex:\n",
    "        return { \"msg_erro\" : str(ex) }"
   ]
  }
 ],
 "metadata": {
  "kernelspec": {
   "display_name": "Python 3",
   "language": "python",
   "name": "python3"
  },
  "language_info": {
   "name": "python",
   "version": "3.8.0 (tags/v3.8.0:fa919fd, Oct 14 2019, 19:37:50) [MSC v.1916 64 bit (AMD64)]"
  },
  "orig_nbformat": 4,
  "vscode": {
   "interpreter": {
    "hash": "46efb5c2514dfc5717769b877d282e38a35a6ce10818c558da1b276ffeedc640"
   }
  }
 },
 "nbformat": 4,
 "nbformat_minor": 2
}
