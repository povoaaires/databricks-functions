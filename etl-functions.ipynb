{
 "cells": [
  {
   "attachments": {},
   "cell_type": "markdown",
   "metadata": {},
   "source": [
    "Função que remove os espaços de todos os campos tipo string no Dataframe"
   ]
  },
  {
   "cell_type": "code",
   "execution_count": null,
   "metadata": {},
   "outputs": [],
   "source": [
    "def RemovSpaces(df):\n",
    "    df_tr = (\n",
    "        df.select(\n",
    "            *(trim(col(colu)).alias(colu) for colu, ty in df.dtypes if ty.split('(')[0] in ('string')),\n",
    "            *(col(lun).alias(lun)for lun, tpy in df.dtypes if tpy.split('(')[0] != 'string')\n",
    "        )\n",
    "    )\n",
    "    \n",
    "    return df_tr"
   ]
  }
 ],
 "metadata": {
  "kernelspec": {
   "display_name": "Python 3",
   "language": "python",
   "name": "python3"
  },
  "language_info": {
   "name": "python",
   "version": "3.8.0 (tags/v3.8.0:fa919fd, Oct 14 2019, 19:37:50) [MSC v.1916 64 bit (AMD64)]"
  },
  "orig_nbformat": 4,
  "vscode": {
   "interpreter": {
    "hash": "46efb5c2514dfc5717769b877d282e38a35a6ce10818c558da1b276ffeedc640"
   }
  }
 },
 "nbformat": 4,
 "nbformat_minor": 2
}
